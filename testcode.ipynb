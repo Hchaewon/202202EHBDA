{
  "nbformat": 4,
  "nbformat_minor": 0,
  "metadata": {
    "colab": {
      "provenance": [],
      "authorship_tag": "ABX9TyM0zaWpSibbxcXNar6iAJd8",
      "include_colab_link": true
    },
    "kernelspec": {
      "name": "python3",
      "display_name": "Python 3"
    },
    "language_info": {
      "name": "python"
    }
  },
  "cells": [
    {
      "cell_type": "markdown",
      "metadata": {
        "id": "view-in-github",
        "colab_type": "text"
      },
      "source": [
        "<a href=\"https://colab.research.google.com/github/Hchaewon/202202EHBDA/blob/main/testcode.ipynb\" target=\"_parent\"><img src=\"https://colab.research.google.com/assets/colab-badge.svg\" alt=\"Open In Colab\"/></a>"
      ]
    },
    {
      "cell_type": "code",
      "execution_count": null,
      "metadata": {
        "id": "Mg9LMAD52WZ_"
      },
      "outputs": [],
      "source": []
    },
    {
      "cell_type": "markdown",
      "source": [
        "#Markdown 사용 가능한가요?\n",
        "\n",
        "##오호 \n",
        "\n",
        "###ㅎㅎㅎ\n",
        "\n",
        "* **말머리할땐 처음에 꼭 띄어쓰기하기**\n",
        "\n",
        " * _한칸 띄우고 하기_\n",
        "\n",
        "1. 수학기호도 쓸 수 있대요\n",
        "$$ \\sum_{i=0}^{10} i^2 $$\n",
        "\n",
        "\n",
        "\n",
        "[LaTeX mathsymbols 참고하세요](https://en.wikibooks.org/wiki/LaTeX/Mathematics)"
      ],
      "metadata": {
        "id": "1l2NeN5b6xoi"
      }
    }
  ]
}